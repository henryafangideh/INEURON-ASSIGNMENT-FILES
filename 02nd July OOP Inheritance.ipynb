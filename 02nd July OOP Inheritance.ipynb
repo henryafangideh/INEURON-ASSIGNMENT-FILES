{
 "cells": [
  {
   "cell_type": "markdown",
   "id": "83036920",
   "metadata": {},
   "source": [
    "### 1. Person class and introduce method"
   ]
  },
  {
   "cell_type": "code",
   "execution_count": 6,
   "id": "4afba9f9",
   "metadata": {},
   "outputs": [],
   "source": [
    "class Person:\n",
    "    def __init__(self, name, age):\n",
    "        self.name = name\n",
    "        self.age = age\n",
    "    \n",
    "    def introduce(self):\n",
    "        return f'The name of this person is {self.name}. {self.name} is {self.age} years old'"
   ]
  },
  {
   "cell_type": "code",
   "execution_count": 7,
   "id": "8fcd91a6",
   "metadata": {},
   "outputs": [
    {
     "data": {
      "text/plain": [
       "'The name of this person is Aniekan. Aniekan is 22 years old'"
      ]
     },
     "execution_count": 7,
     "metadata": {},
     "output_type": "execute_result"
    }
   ],
   "source": [
    "person1 = Person('Aniekan', 22)\n",
    "person1.introduce()"
   ]
  },
  {
   "cell_type": "markdown",
   "id": "6e634b95",
   "metadata": {},
   "source": [
    "### 2. Car class and display_info "
   ]
  },
  {
   "cell_type": "code",
   "execution_count": 9,
   "id": "73151b1e",
   "metadata": {},
   "outputs": [],
   "source": [
    "class Car:\n",
    "    def __init__(self, brand, model):\n",
    "        self.model = model\n",
    "        self.brand = brand\n",
    "    \n",
    "    def display_info(self):\n",
    "        return f'This car is a {self.brand} {self.model}'"
   ]
  },
  {
   "cell_type": "code",
   "execution_count": 11,
   "id": "aaed2329",
   "metadata": {},
   "outputs": [
    {
     "data": {
      "text/plain": [
       "'This car is a Toyota Camry'"
      ]
     },
     "execution_count": 11,
     "metadata": {},
     "output_type": "execute_result"
    }
   ],
   "source": [
    "car1 = Car('Toyota', 'Camry')\n",
    "car1.display_info()"
   ]
  },
  {
   "cell_type": "markdown",
   "id": "d25d34ab",
   "metadata": {},
   "source": [
    "### 3. BankAccount class and display_balance method method"
   ]
  },
  {
   "cell_type": "code",
   "execution_count": 12,
   "id": "45eb0189",
   "metadata": {},
   "outputs": [],
   "source": [
    "class BankAccount:\n",
    "    def __init__(self, account_number, balance):\n",
    "        self.account_number = account_number\n",
    "        self.balance = balance\n",
    "        \n",
    "    def display_balance(self):\n",
    "        return f'This account with account number {self.account_number} has the following balance {self.balance}'"
   ]
  },
  {
   "cell_type": "code",
   "execution_count": 13,
   "id": "b8127e42",
   "metadata": {},
   "outputs": [
    {
     "data": {
      "text/plain": [
       "'This account with account number 1122334455 has the following balance 5000'"
      ]
     },
     "execution_count": 13,
     "metadata": {},
     "output_type": "execute_result"
    }
   ],
   "source": [
    "acc1 = BankAccount(1122334455, 5000)\n",
    "acc1.display_balance()"
   ]
  },
  {
   "cell_type": "markdown",
   "id": "2b9a0f1b",
   "metadata": {},
   "source": [
    "### 4. MobilePhone class and make_call method"
   ]
  },
  {
   "cell_type": "code",
   "execution_count": 14,
   "id": "0d925f37",
   "metadata": {},
   "outputs": [],
   "source": [
    "class MobilePhone:\n",
    "    def __init__(self, brand, model):\n",
    "        self.brand = brand\n",
    "        self.model = model\n",
    "        \n",
    "    def make_call(self):\n",
    "        return f'The person with a {self.brand} {self.model} is making a phone call'"
   ]
  },
  {
   "cell_type": "code",
   "execution_count": 15,
   "id": "fe83cfc3",
   "metadata": {},
   "outputs": [
    {
     "data": {
      "text/plain": [
       "'The person with a Samsumg S21 is making a phone call'"
      ]
     },
     "execution_count": 15,
     "metadata": {},
     "output_type": "execute_result"
    }
   ],
   "source": [
    "phone1 = MobilePhone('Samsumg','S21')\n",
    "phone1.make_call()"
   ]
  },
  {
   "cell_type": "markdown",
   "id": "bf7cdac1",
   "metadata": {},
   "source": [
    "### 5. Book and display_info method"
   ]
  },
  {
   "cell_type": "code",
   "execution_count": 16,
   "id": "47600691",
   "metadata": {},
   "outputs": [],
   "source": [
    "class Book:\n",
    "    def __init__(self, title, author):\n",
    "        self.title = title\n",
    "        self.author = author\n",
    "        \n",
    "    def display_info(self):\n",
    "        return f'The title of this book is {self.title} and it was written by {self.author}'"
   ]
  },
  {
   "cell_type": "code",
   "execution_count": 19,
   "id": "bf101a5d",
   "metadata": {},
   "outputs": [
    {
     "data": {
      "text/plain": [
       "'The title of this book is Harry Potter and the Prisoner of Azkaban and it was written by J.K Rowling'"
      ]
     },
     "execution_count": 19,
     "metadata": {},
     "output_type": "execute_result"
    }
   ],
   "source": [
    "book1 = Book('Harry Potter and the Prisoner of Azkaban', 'J.K Rowling')\n",
    "book1.display_info()"
   ]
  },
  {
   "cell_type": "markdown",
   "id": "346e4053",
   "metadata": {},
   "source": [
    "### 6. Vehicle "
   ]
  },
  {
   "cell_type": "code",
   "execution_count": 52,
   "id": "e1ead06f",
   "metadata": {},
   "outputs": [],
   "source": [
    "class Vehicle:\n",
    "    def __init__(self, make, model, year):\n",
    "        self.make = make\n",
    "        self.model = model\n",
    "        self.year = year\n",
    "        \n",
    "class Car(Vehicle):\n",
    "    def __init__(self, make, model, year, colour): # Added the colour attribute\n",
    "        super().__init__(make, model, year, colour) \n",
    "        self.colour = colour\n",
    "    \n",
    "    def start_engine(self):\n",
    "        return f'The {self.colour} {self.make} has started'\n",
    "    \n",
    "    def stop_engine(self):\n",
    "        return f'The {self.colour} {self.make} has been turned off'\n",
    "    \n",
    "class Motorcycle(Vehicle):\n",
    "    def __init__(self, make, model, colour, year): # Added the colour attribute\n",
    "        super().__init__(make, model, year)\n",
    "        self.colour = colour\n",
    "    \n",
    "    def start_engine(self):\n",
    "        return f'The {self.colour} {self.make} has started'\n",
    "    \n",
    "    def stop_engine(self):\n",
    "        return f'The {self.colour} {self.make} has been turned off'"
   ]
  },
  {
   "cell_type": "code",
   "execution_count": 53,
   "id": "6b2ab966",
   "metadata": {},
   "outputs": [
    {
     "data": {
      "text/plain": [
       "'The black Ducati has started'"
      ]
     },
     "execution_count": 53,
     "metadata": {},
     "output_type": "execute_result"
    }
   ],
   "source": [
    "racebike = Motorcycle('Ducati', '4x4', 'black', 2000)\n",
    "racebike.start_engine()"
   ]
  },
  {
   "cell_type": "markdown",
   "id": "801f9791",
   "metadata": {},
   "source": [
    "### 7. Animal"
   ]
  },
  {
   "cell_type": "code",
   "execution_count": 63,
   "id": "eb00de4d",
   "metadata": {},
   "outputs": [],
   "source": [
    "class Animal:\n",
    "    def __init__(self, name):\n",
    "        self.name = name\n",
    "        \n",
    "    def eat(self):\n",
    "        print (f'The {self.name} is eating')\n",
    "            \n",
    "    def sleep(self):\n",
    "        print (f'The {self.name} is sleeping')\n",
    "\n",
    "class Cat(Animal):\n",
    "    def __init__(self, name, sound):\n",
    "        super().__init__(name)\n",
    "        self.sound = sound\n",
    "        \n",
    "    def meow(self):\n",
    "        print (f'The cat makes the {self.sound} sound')\n",
    "    \n",
    "class Dog(Animal):\n",
    "    def __init__(self,name,sound):\n",
    "        super().__init__(name)\n",
    "        self.sound = sound\n",
    "    \n",
    "    def bark(self):\n",
    "        print (f'The dog makes a {self.sound} sound')"
   ]
  },
  {
   "cell_type": "code",
   "execution_count": 64,
   "id": "d8251f12",
   "metadata": {},
   "outputs": [
    {
     "name": "stdout",
     "output_type": "stream",
     "text": [
      "The cat makes the meow sound\n",
      "The cat is eating\n"
     ]
    }
   ],
   "source": [
    "Garfield = Cat('cat','meow')\n",
    "Garfield.meow()\n",
    "Garfield.eat()"
   ]
  },
  {
   "cell_type": "markdown",
   "id": "6d7f37f1",
   "metadata": {},
   "source": [
    "### 8. Library Catalogue"
   ]
  },
  {
   "cell_type": "code",
   "execution_count": 73,
   "id": "bf488e32",
   "metadata": {},
   "outputs": [],
   "source": [
    "class LibraryItem:\n",
    "    def __init__(self, title, author, publication_date):\n",
    "        self.title = title\n",
    "        self.author = author\n",
    "        self.publication_date = publication_date\n",
    "        \n",
    "        \n",
    "class Book(LibraryItem):\n",
    "    def __init__(self, title, author, publication_date):\n",
    "        super().__init__(title, author, publication_date)\n",
    "        \n",
    "    def checkout(self):\n",
    "        print(f'You have checked {self.title} out')\n",
    "        \n",
    "    def  return_item(self):\n",
    "        print(f'You have returned {self.title}')\n",
    "\n",
    "        \n",
    "class Magazine(LibraryItem):\n",
    "    def __init__(self, title, author, publication_date):\n",
    "        super().__init__(title, author, publication_date)\n",
    "        \n",
    "    def  return_item(self):\n",
    "        print(f'You have checked {self.title} out')\n",
    "        \n",
    "    def checkout(self):\n",
    "        print(f'You have returned {self.title}')"
   ]
  },
  {
   "cell_type": "code",
   "execution_count": 74,
   "id": "984ae38a",
   "metadata": {},
   "outputs": [
    {
     "name": "stdout",
     "output_type": "stream",
     "text": [
      "You have returned Peoples\n"
     ]
    }
   ],
   "source": [
    "Peoples = Magazine('Peoples', 'Mkay', 2004)\n",
    "Peoples.checkout()"
   ]
  },
  {
   "cell_type": "markdown",
   "id": "279079f4",
   "metadata": {},
   "source": [
    "### 9. Employees and Departments"
   ]
  },
  {
   "cell_type": "code",
   "execution_count": 139,
   "id": "d3b7864a",
   "metadata": {},
   "outputs": [],
   "source": [
    "class Employee:\n",
    "    def __init__(self, name, salary, department):\n",
    "        self.name = name\n",
    "        self.salary = salary\n",
    "        self.department = department\n",
    "        \n",
    "class Manager(Employee):\n",
    "    def __init__(self, name, salary, department):\n",
    "        super().__init__(name, salary, department)\n",
    "    \n",
    "    def assign_task(self,task, person):\n",
    "        print(f'{person} has been assigned this task {task}')\n",
    "    \n",
    "    \n",
    "class Staff(Employee):\n",
    "    def __init__(self, name, salary, department):\n",
    "        super().__init__(name, salary, department)\n",
    "        \n",
    "    def attend_meeting(self,meeting):\n",
    "        print(f'{self.name} has to attend the following meeting - {meeting}')\n",
    "        \n",
    "class Department:\n",
    "    department_list = {}  # Dictionary to store department names and employee lists\n",
    "    \n",
    "    def __init__(self, name, department):\n",
    "        self.name = name\n",
    "        self.department = department\n",
    "        if self.department not in Department.department_list:\n",
    "            Department.department_list[self.department] = []  # Initialize list for department\n",
    "    \n",
    "    def add_employee(self):\n",
    "        Department.department_list[self.department].append(self.name)\n",
    "        \n",
    "    def remove_employee(self):\n",
    "        Department.department_list[self.department].remove(self.name)\n",
    "        "
   ]
  },
  {
   "cell_type": "code",
   "execution_count": 140,
   "id": "ea2f7f23",
   "metadata": {},
   "outputs": [
    {
     "name": "stdout",
     "output_type": "stream",
     "text": [
      "George has to attend the following meeting - Calibration\n"
     ]
    }
   ],
   "source": [
    "staff1 = Staff('George',100000, 'Computer Engineering')\n",
    "staff1.attend_meeting('Calibration')"
   ]
  },
  {
   "cell_type": "code",
   "execution_count": 141,
   "id": "466a0dfe",
   "metadata": {},
   "outputs": [],
   "source": [
    "dept1 = Department('John', 'IT Department')\n",
    "dept1.add_employee()"
   ]
  },
  {
   "cell_type": "code",
   "execution_count": 144,
   "id": "93268ac9",
   "metadata": {},
   "outputs": [
    {
     "data": {
      "text/plain": [
       "{'IT Department': []}"
      ]
     },
     "execution_count": 144,
     "metadata": {},
     "output_type": "execute_result"
    }
   ],
   "source": [
    "Department.department_list"
   ]
  },
  {
   "cell_type": "code",
   "execution_count": 143,
   "id": "197a6765",
   "metadata": {},
   "outputs": [],
   "source": [
    "dept1.remove_employee()"
   ]
  },
  {
   "cell_type": "markdown",
   "id": "6013519f",
   "metadata": {},
   "source": [
    "### 10. Bank Transactions"
   ]
  },
  {
   "cell_type": "code",
   "execution_count": 151,
   "id": "119e556b",
   "metadata": {},
   "outputs": [],
   "source": [
    "class BankAccount:\n",
    "    def __init__(self, account_number, balance):\n",
    "        self.account_number = account_number\n",
    "        self.balance = balance\n",
    "        \n",
    "class CheckingAccount(BankAccount):\n",
    "    def __init__(self, account_number, balance):\n",
    "        super().__init__(account_number, balance)\n",
    "    \n",
    "    def withdrawal(self, amount):\n",
    "        if amount < self.balance: # To check balance for withdrawal\n",
    "            print ('Insufficient funds')\n",
    "        else:\n",
    "            self.balance = self.balance - amount\n",
    "        \n",
    "        return f'{amount} has been withdrawn'\n",
    "    \n",
    "    def deposit(self, amount):\n",
    "        self.balance += amount\n",
    "        \n",
    "        return f'{amount} has been withdrawn'\n",
    "        \n",
    "        \n",
    "class SavingsAccount(BankAccount):\n",
    "    def __init__(self, account_number, balance, interest):\n",
    "        super().__init__(account_number, balance)\n",
    "        self.interest = interest\n",
    "        \n",
    "        \n",
    "    def withdrawal(self, amount):\n",
    "        if amount < self.balance: # To check balance for withdrawal\n",
    "            print ('Insufficient funds')\n",
    "        else:\n",
    "            self.balance = self.balance - amount\n",
    "        return f'{amount} has been withdrawn'\n",
    "\n",
    "    def deposit(self, amount):\n",
    "        self.balance += amount\n",
    "        return f'{amount} has been withdrawn'\n",
    "    \n",
    "    def interest_amount(self, years):\n",
    "        interest_gained = self.interest/100 * self.balance * years\n",
    "        self.balance += interest_gained\n",
    "        return f'Total interest - {interest_gained} and new balance is {self.balance}'\n",
    "    \n",
    "    \n",
    "        \n",
    "        \n",
    "    "
   ]
  },
  {
   "cell_type": "code",
   "execution_count": 152,
   "id": "51b75f49",
   "metadata": {},
   "outputs": [],
   "source": [
    "sav1 = SavingsAccount(12345, 50000, 5)"
   ]
  },
  {
   "cell_type": "code",
   "execution_count": 153,
   "id": "ead9ec81",
   "metadata": {},
   "outputs": [
    {
     "data": {
      "text/plain": [
       "50000"
      ]
     },
     "execution_count": 153,
     "metadata": {},
     "output_type": "execute_result"
    }
   ],
   "source": [
    "sav1.balance"
   ]
  },
  {
   "cell_type": "code",
   "execution_count": 154,
   "id": "28250b5e",
   "metadata": {},
   "outputs": [
    {
     "data": {
      "text/plain": [
       "'Total interest - 12500.0 and new balance is 62500.0'"
      ]
     },
     "execution_count": 154,
     "metadata": {},
     "output_type": "execute_result"
    }
   ],
   "source": [
    "sav1.interest_amount(5)"
   ]
  },
  {
   "cell_type": "markdown",
   "id": "17f2c760",
   "metadata": {},
   "source": [
    "### 11. School Management System"
   ]
  },
  {
   "cell_type": "code",
   "execution_count": 155,
   "id": "54c3e35b",
   "metadata": {},
   "outputs": [],
   "source": [
    "class Person:\n",
    "    def __init__(self, name, age, address):\n",
    "        self.name = name\n",
    "        self.age = age\n",
    "        self.address = address\n",
    "        \n",
    "class Student(Person):\n",
    "    def __init__(self, name, age, address):\n",
    "        super().__init__(name, age, address)\n",
    "        \n",
    "    def take_exam(self, paper):\n",
    "        print(f'{self.name} will write the {paper} exam ')\n",
    "        \n",
    "class Teacher(Person):\n",
    "    def __init__(self, name , age, address):\n",
    "        super().__init__(name, age, address)\n",
    "        \n",
    "    def teach_subject(self, subject):\n",
    "        print(f'{self.name} teaches {subject}')\n",
    "        \n",
    "        \n",
    "class Staff(Person):\n",
    "    def __init__(self, name, age, address):\n",
    "        super().__init__(name, age, address)\n",
    "    \n",
    "    def attend_meeting(self, meeting):\n",
    "        print(f'{self.name} will attend the {meeting} meeting')\n",
    "        "
   ]
  },
  {
   "cell_type": "code",
   "execution_count": 156,
   "id": "29f01d40",
   "metadata": {},
   "outputs": [
    {
     "name": "stdout",
     "output_type": "stream",
     "text": [
      "Aniekan will attend the Calibration meeting\n"
     ]
    }
   ],
   "source": [
    "staff1 = Staff('Aniekan', 19, 'Osongama')\n",
    "staff1.attend_meeting('Calibration')"
   ]
  }
 ],
 "metadata": {
  "kernelspec": {
   "display_name": "Python 3 (ipykernel)",
   "language": "python",
   "name": "python3"
  },
  "language_info": {
   "codemirror_mode": {
    "name": "ipython",
    "version": 3
   },
   "file_extension": ".py",
   "mimetype": "text/x-python",
   "name": "python",
   "nbconvert_exporter": "python",
   "pygments_lexer": "ipython3",
   "version": "3.11.4"
  }
 },
 "nbformat": 4,
 "nbformat_minor": 5
}
