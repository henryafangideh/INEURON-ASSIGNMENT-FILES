{
 "cells": [
  {
   "cell_type": "markdown",
   "id": "f226ea06",
   "metadata": {},
   "source": [
    "### 1. What is the primary goal of Object-Oriented Programming (OOP)?"
   ]
  },
  {
   "cell_type": "markdown",
   "id": "259c658c",
   "metadata": {},
   "source": [
    "The primary goal of Object Oriented Programming is to create blueprints of similar objects. Objects in this case refer to instances of the class. A class is a data structure that shares attributes and methods among objects. \n",
    "\n",
    "The emphasis is on modeling real-world entities by encapsulating data and behavior within classes and creating instances of those classes (objects) to interact with. This approach promotes reusability, modularity, and a clearer organization of code.\n",
    "\n",
    "\n"
   ]
  },
  {
   "cell_type": "markdown",
   "id": "2290d2e1",
   "metadata": {},
   "source": [
    "### 2. What is an object in Python?"
   ]
  },
  {
   "cell_type": "markdown",
   "id": "193308e0",
   "metadata": {},
   "source": [
    "An object in python is simply an instance of a variable. If the class is representing cars, then an object would be the different cars added to the class."
   ]
  },
  {
   "cell_type": "markdown",
   "id": "0fb5054f",
   "metadata": {},
   "source": [
    "### 3. What is a class in Python?"
   ]
  },
  {
   "cell_type": "markdown",
   "id": "c05c62dd",
   "metadata": {},
   "source": [
    "A class is a data structure that shares atrributes and methods among objects. It is a blueprint that defines the structure and behaviour of objects."
   ]
  },
  {
   "cell_type": "markdown",
   "id": "6ef42d1a",
   "metadata": {},
   "source": [
    "### 4. What are attributes and methods in a class?\n"
   ]
  },
  {
   "cell_type": "markdown",
   "id": "91567653",
   "metadata": {},
   "source": [
    "Attributes can be defined as properties or features of objects in a class. The attributes are the data that the objects in a class encapsulate.\n",
    "\n",
    "Methods are the fuctionalities that a class object can carry out. A function in a class is typically called a method."
   ]
  },
  {
   "cell_type": "markdown",
   "id": "5d5dbbb2",
   "metadata": {},
   "source": [
    "### 5. What is the difference between class variables and instance variables in Python?"
   ]
  },
  {
   "cell_type": "markdown",
   "id": "1035f48a",
   "metadata": {},
   "source": [
    "Class variables are variables initiated within a class and shared by all objects of a class. They are usually defined outside any method. \n",
    "\n",
    "Instance variables are defined within a class methods. They are unique to a given instance/object of the class."
   ]
  },
  {
   "cell_type": "markdown",
   "id": "8b43529c",
   "metadata": {},
   "source": [
    "### 6. What is the purpose of the self parameter in Python class methods?"
   ]
  },
  {
   "cell_type": "markdown",
   "id": "203ade34",
   "metadata": {},
   "source": [
    "The self pararmeter is usually found in the \"__init__\" method of a class. It initializes the instance as an object of the class and allows the requiremed variables of a class object to be input.\n",
    "\n",
    "It is also used to differentiate instance variables from local variables within the method."
   ]
  },
  {
   "cell_type": "markdown",
   "id": "b9b8271a",
   "metadata": {},
   "source": [
    "### 7. Library Management System"
   ]
  },
  {
   "cell_type": "code",
   "execution_count": 108,
   "id": "95fbfb58",
   "metadata": {},
   "outputs": [],
   "source": [
    "class Book:\n",
    "    books = [] # This puts all declared books in a list\n",
    "    \n",
    "    def __init__(self, title, author, isbn, publication_year, available_copies):\n",
    "        self.title = title\n",
    "        self.author = author\n",
    "        self.isbn = isbn\n",
    "        self.publication_year = publication_year\n",
    "        self.available_copies = available_copies\n",
    "        Book.books.append(self.title) # Adds the title of the books to the books list (class variable)\n",
    "        \n",
    "    def check_out(self):\n",
    "        if self.available_copies > 0:\n",
    "            self.available_copies -= 1\n",
    "            print(f'You have taken one copy of {self.title}')\n",
    "        else:\n",
    "            print(f'{self.title} is out of stock/shelf')\n",
    "\n",
    "            \n",
    "    def return_book(self):\n",
    "        self.available_copies += 1\n",
    "        return (f'You have returned {self.title} to the library')\n",
    "    \n",
    "    def display_book_info(self):\n",
    "        print (f\"Book Title = {self.title} \\nBook Author = {self.author} \\nISBN = {self.isbn} \\nPublication Year = {self.publication_year} \\nAvailable Copies = {self.available_copies}\")\n",
    "        \n",
    "        "
   ]
  },
  {
   "cell_type": "markdown",
   "id": "c1484293",
   "metadata": {},
   "source": [
    "### 8. Ticket Booking System"
   ]
  },
  {
   "cell_type": "code",
   "execution_count": 236,
   "id": "a1bad41c",
   "metadata": {},
   "outputs": [],
   "source": [
    "class Ticket:\n",
    "    def __init__(self, ID, name, date, venue, seat, price, is_reserved):\n",
    "        self.ticket_id = ID\n",
    "        self.event_name = name\n",
    "        self.event_date = date\n",
    "        self.venue = venue\n",
    "        self.seat_number = seat\n",
    "        self.price = price\n",
    "        self.is_reserved = is_reserved\n",
    "        \n",
    "                 \n",
    "    def reserve_ticket(self):\n",
    "        if self.is_reserved == 'Yes':\n",
    "            print('The ticket is already reserved')\n",
    "        elif self.is_reserved == 'No':\n",
    "            self.is_reserved = 'Yes'\n",
    "            print('The ticket has now been reserved for you')\n",
    "            \n",
    "    def cancel_reservation(self):\n",
    "        if self.is_reserved == 'Yes':\n",
    "            self.is_reserved = 'False'\n",
    "            print('Your reservation has now been cancelled')\n",
    "        elif self.reserved == 'No':\n",
    "            pass\n",
    "    \n",
    "    def display_ticket_info(self):\n",
    "        print('The ticket ID is', self.ticket_id)\n",
    "        print('The event name is', self.event_name)\n",
    "        print('The event date is', self.event_date)\n",
    "        print('The seat number is', self.seat_number)\n",
    "        print('The ticket is', self.is_reserved)\n",
    "        \n"
   ]
  },
  {
   "cell_type": "markdown",
   "id": "da1ffa2f",
   "metadata": {},
   "source": [
    "### 9. Shopping Cart"
   ]
  },
  {
   "cell_type": "code",
   "execution_count": 235,
   "id": "2c99ab60",
   "metadata": {},
   "outputs": [],
   "source": [
    "class ShoppingCart:\n",
    "    item_list = []\n",
    "    \n",
    "    def __init__(self, items):\n",
    "        self.items = items\n",
    "        ShoppingCart.item_list.append(items)\n",
    "            \n",
    "    def add_item(self,item):\n",
    "        ShoppingCart.item_list.append(item)\n",
    "    \n",
    "    def remove_item(self, item):\n",
    "        ShoppingCart.item_list.remove(item)\n",
    "    \n",
    "    def view_cart(self):\n",
    "        for i in ShoppingCart.item_list:\n",
    "            print (i)\n",
    "    \n",
    "    def clear_cart(self):\n",
    "        ShoppingCart.item_list = []"
   ]
  },
  {
   "cell_type": "markdown",
   "id": "bb651236",
   "metadata": {},
   "source": [
    "### 10. School Management System"
   ]
  },
  {
   "cell_type": "code",
   "execution_count": 237,
   "id": "b5d6fda4",
   "metadata": {},
   "outputs": [],
   "source": [
    "class Student:\n",
    "    def __init__(self, name, age, grade, student_id, attendance):\n",
    "        self.name = name \n",
    "        self.age = age\n",
    "        self.grade = grade\n",
    "        self.student_id = student_id\n",
    "        self.attendance = attendance\n",
    "        \n",
    "        \n",
    "    def update_attendance(self, date, status):\n",
    "        self.attendance.update({date:status.lower()})\n",
    "        \n",
    "    def get_attendance(self):\n",
    "        return self.attendance\n",
    "    \n",
    "    def get_average_attendance(self):\n",
    "        total = 0\n",
    "        for values in self.attendance.values():\n",
    "            if values == 'present':\n",
    "                total += 1\n",
    "        average = (total/(len(self.attendance))) * 100\n",
    "        return average\n",
    "\n",
    "    \n",
    "    \n",
    "        \n",
    "        \n",
    "        "
   ]
  }
 ],
 "metadata": {
  "kernelspec": {
   "display_name": "Python 3 (ipykernel)",
   "language": "python",
   "name": "python3"
  },
  "language_info": {
   "codemirror_mode": {
    "name": "ipython",
    "version": 3
   },
   "file_extension": ".py",
   "mimetype": "text/x-python",
   "name": "python",
   "nbconvert_exporter": "python",
   "pygments_lexer": "ipython3",
   "version": "3.11.4"
  }
 },
 "nbformat": 4,
 "nbformat_minor": 5
}
